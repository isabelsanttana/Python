{
  "nbformat": 4,
  "nbformat_minor": 0,
  "metadata": {
    "colab": {
      "name": "apostila_Pygame.ipynb",
      "provenance": [],
      "collapsed_sections": [],
      "authorship_tag": "ABX9TyNZeWZwWZMSv50QGeO9ekNe",
      "include_colab_link": true
    },
    "kernelspec": {
      "name": "python3",
      "display_name": "Python 3"
    },
    "language_info": {
      "name": "python"
    }
  },
  "cells": [
    {
      "cell_type": "markdown",
      "metadata": {
        "id": "view-in-github",
        "colab_type": "text"
      },
      "source": [
        "<a href=\"https://colab.research.google.com/github/isabelsanttana/Python/blob/main/apostila_Pygame.ipynb\" target=\"_parent\"><img src=\"https://colab.research.google.com/assets/colab-badge.svg\" alt=\"Open In Colab\"/></a>"
      ]
    },
    {
      "cell_type": "markdown",
      "source": [
        "# Apostila: Programação em Python e Introdução ao Pygame\n",
        "\n",
        "As células a seguir contém atividades desenvolvidas durante a leitura da apostila.\n",
        "Algumas atividades serão aprimoradas para o além do pedido na apostila com o intuito de pratica.\n"
      ],
      "metadata": {
        "id": "5KWcQDGNqImU"
      }
    },
    {
      "cell_type": "markdown",
      "source": [
        "# Cap 5"
      ],
      "metadata": {
        "id": "CfNVT7rrqEf5"
      }
    },
    {
      "cell_type": "code",
      "source": [
        "import random\n",
        "import time\n",
        "\n",
        "def displayIntro():\n",
        "  print('Você esta em uma ilha cheia de dragões. Em frente você,')\n",
        "  print('vê duas cavernas. Em uma caverna, esta o dragão amigavel')\n",
        "  print('e e compartilhará seu tesouro com você, O outro dragão')\n",
        "  print('é agressivo e bravo, e comera você.')\n",
        "  print()\n",
        "\n",
        "def chooseCave():\n",
        "  cave = ''\n",
        "  while cave != '1' and cave != '2':\n",
        "    print('Escolha em qual caverna deseja entrar 1 ou 2.')\n",
        "    cave = input()\n",
        "\n",
        "  return cave\n",
        "\n",
        "def checkCave(chooseCave):\n",
        "  print('Você escolheu a caverna ...')\n",
        "  time.sleep(2)\n",
        "  print('Esta escuro ...')\n",
        "  time.sleep(2)\n",
        "  print('Um enorme dragão pula de frente pra você, ele se levanta e ...')\n",
        "  print()\n",
        "  time.sleep(2)\n",
        "\n",
        "  friendlyCave = random.randint(1,2)\n",
        "\n",
        "  if chooseCave == str(friendlyCave):\n",
        "    print('Te da o seu tesouro!!')\n",
        "  else:\n",
        "    print('Devora você.')\n",
        "\n",
        "playAgain = 'sim'\n",
        "while playAgain == 'sim':\n",
        "\n",
        "  displayIntro()\n",
        "  caveNumber = chooseCave()\n",
        "  checkCave(caveNumber)\n",
        "\n",
        "  print('Quer jogar novamente? (sim ou não)')\n",
        "  playAgain = input()\n"
      ],
      "metadata": {
        "colab": {
          "base_uri": "https://localhost:8080/"
        },
        "id": "y4PaPzqHnH8G",
        "outputId": "deab0238-1d3e-491e-9f97-1ee13d6e13ef"
      },
      "execution_count": null,
      "outputs": [
        {
          "name": "stdout",
          "output_type": "stream",
          "text": [
            "Você esta em uma ilha cheia de dragões. Em frente você,\n",
            "vê duas cavernas. Em uma caverna, esta o dragão amigavel\n",
            "e e compartilhará seu tesouro com você, O outro dragão\n",
            "é agressivo e bravo, e comera você.\n",
            "\n",
            "Escolha em qual caverna deseja entrar 1 ou 2.\n",
            "1\n",
            "Você escolheu a caverna ...\n",
            "Esta escuro ...\n",
            "Um enorme dragão pula de frente pra você, ele se levanta e ...\n",
            "\n",
            "Te da o seu tesouro!!\n",
            "Quer jogar novamente? (sim ou não)\n",
            "nao\n"
          ]
        }
      ]
    },
    {
      "cell_type": "markdown",
      "source": [
        "# Cap 7"
      ],
      "metadata": {
        "id": "QkrmOaUOqorE"
      }
    },
    {
      "cell_type": "code",
      "source": [
        ""
      ],
      "metadata": {
        "id": "90UC5Ht4qqPE"
      },
      "execution_count": null,
      "outputs": []
    }
  ]
}